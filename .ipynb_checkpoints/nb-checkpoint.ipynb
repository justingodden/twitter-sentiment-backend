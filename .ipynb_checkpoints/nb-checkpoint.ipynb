{
 "cells": [
  {
   "cell_type": "code",
   "execution_count": 2,
   "metadata": {},
   "outputs": [],
   "source": [
    "import pandas as pd\n",
    "\n",
    "import tweepy\n",
    "from tweepy import Cursor\n",
    "from keys import api_key, api_secret_key\n",
    "\n",
    "from transformers import pipeline"
   ]
  },
  {
   "cell_type": "code",
   "execution_count": 33,
   "metadata": {},
   "outputs": [],
   "source": [
    "classifier = pipeline('sentiment-analysis')"
   ]
  },
  {
   "cell_type": "code",
   "execution_count": null,
   "metadata": {},
   "outputs": [],
   "source": [
    "classifier('We are very happy to include pipeline into the transformers repository.')"
   ]
  },
  {
   "cell_type": "code",
   "execution_count": 3,
   "metadata": {},
   "outputs": [],
   "source": [
    "auth = tweepy.OAuthHandler(api_key, api_secret_key)"
   ]
  },
  {
   "cell_type": "code",
   "execution_count": 4,
   "metadata": {},
   "outputs": [],
   "source": [
    "api = tweepy.API(auth)"
   ]
  },
  {
   "cell_type": "code",
   "execution_count": 6,
   "metadata": {
    "scrolled": false
   },
   "outputs": [
    {
     "name": "stdout",
     "output_type": "stream",
     "text": [
      "1347517592089600000\n",
      "RT @Shiko30492001: @FitFounder “Perhaps you are overvaluing what you don’t have and undervaluing what you do.” - Dr. Jordan Peterson\n",
      "\n",
      "自分の持っ…\n",
      "1\n"
     ]
    }
   ],
   "source": [
    "for tweet in Cursor(api.search, q=\"peterson\", tweet_mode=\"extended\").items(100):\n",
    "#     print(dir(tweet))\n",
    "#     print(tweet.id)\n",
    "    print(tweet.full_text)\n",
    "#     print(tweet.retweet_count)\n",
    "#     print(tweet.user.location)\n",
    "#     print(tweet.user.name)\n",
    "#     print(tweet.full_text)\n",
    "#     print(classifier(tweet.full_text))\n",
    "#     print()\n",
    "    break"
   ]
  },
  {
   "cell_type": "code",
   "execution_count": 14,
   "metadata": {
    "scrolled": true
   },
   "outputs": [
    {
     "data": {
      "text/plain": [
       "Status(_api=<tweepy.api.API object at 0x0000012C148964F0>, _json={'created_at': 'Wed Jan 06 17:15:14 +0000 2021', 'id': 1346867937672630272, 'id_str': '1346867937672630272', 'text': '@itvMLshow   my sister needs money advise about vanquis  they added purchase interest  due to section 75 but it was… https://t.co/gsFhWdEvB3', 'truncated': True, 'entities': {'hashtags': [], 'symbols': [], 'user_mentions': [{'screen_name': 'itvMLshow', 'name': 'The Martin Lewis Money Show Live', 'id': 828777793, 'id_str': '828777793', 'indices': [0, 10]}], 'urls': [{'url': 'https://t.co/gsFhWdEvB3', 'expanded_url': 'https://twitter.com/i/web/status/1346867937672630272', 'display_url': 'twitter.com/i/web/status/1…', 'indices': [117, 140]}]}, 'metadata': {'iso_language_code': 'en', 'result_type': 'recent'}, 'source': '<a href=\"http://twitter.com/download/android\" rel=\"nofollow\">Twitter for Android</a>', 'in_reply_to_status_id': None, 'in_reply_to_status_id_str': None, 'in_reply_to_user_id': 828777793, 'in_reply_to_user_id_str': '828777793', 'in_reply_to_screen_name': 'itvMLshow', 'user': {'id': 966324865929306112, 'id_str': '966324865929306112', 'name': 'Lynda Hammond', 'screen_name': 'LyndaHammond20', 'location': '', 'description': '', 'url': None, 'entities': {'description': {'urls': []}}, 'protected': False, 'followers_count': 67, 'friends_count': 245, 'listed_count': 0, 'created_at': 'Wed Feb 21 14:52:56 +0000 2018', 'favourites_count': 340, 'utc_offset': None, 'time_zone': None, 'geo_enabled': False, 'verified': False, 'statuses_count': 114, 'lang': None, 'contributors_enabled': False, 'is_translator': False, 'is_translation_enabled': False, 'profile_background_color': 'F5F8FA', 'profile_background_image_url': None, 'profile_background_image_url_https': None, 'profile_background_tile': False, 'profile_image_url': 'http://pbs.twimg.com/profile_images/971179956674973696/5yWpEBj6_normal.jpg', 'profile_image_url_https': 'https://pbs.twimg.com/profile_images/971179956674973696/5yWpEBj6_normal.jpg', 'profile_link_color': '1DA1F2', 'profile_sidebar_border_color': 'C0DEED', 'profile_sidebar_fill_color': 'DDEEF6', 'profile_text_color': '333333', 'profile_use_background_image': True, 'has_extended_profile': True, 'default_profile': True, 'default_profile_image': False, 'following': None, 'follow_request_sent': None, 'notifications': None, 'translator_type': 'none'}, 'geo': None, 'coordinates': None, 'place': None, 'contributors': None, 'is_quote_status': False, 'retweet_count': 0, 'favorite_count': 0, 'favorited': False, 'retweeted': False, 'lang': 'en'}, created_at=datetime.datetime(2021, 1, 6, 17, 15, 14), id=1346867937672630272, id_str='1346867937672630272', text='@itvMLshow   my sister needs money advise about vanquis  they added purchase interest  due to section 75 but it was… https://t.co/gsFhWdEvB3', truncated=True, entities={'hashtags': [], 'symbols': [], 'user_mentions': [{'screen_name': 'itvMLshow', 'name': 'The Martin Lewis Money Show Live', 'id': 828777793, 'id_str': '828777793', 'indices': [0, 10]}], 'urls': [{'url': 'https://t.co/gsFhWdEvB3', 'expanded_url': 'https://twitter.com/i/web/status/1346867937672630272', 'display_url': 'twitter.com/i/web/status/1…', 'indices': [117, 140]}]}, metadata={'iso_language_code': 'en', 'result_type': 'recent'}, source='Twitter for Android', source_url='http://twitter.com/download/android', in_reply_to_status_id=None, in_reply_to_status_id_str=None, in_reply_to_user_id=828777793, in_reply_to_user_id_str='828777793', in_reply_to_screen_name='itvMLshow', author=User(_api=<tweepy.api.API object at 0x0000012C148964F0>, _json={'id': 966324865929306112, 'id_str': '966324865929306112', 'name': 'Lynda Hammond', 'screen_name': 'LyndaHammond20', 'location': '', 'description': '', 'url': None, 'entities': {'description': {'urls': []}}, 'protected': False, 'followers_count': 67, 'friends_count': 245, 'listed_count': 0, 'created_at': 'Wed Feb 21 14:52:56 +0000 2018', 'favourites_count': 340, 'utc_offset': None, 'time_zone': None, 'geo_enabled': False, 'verified': False, 'statuses_count': 114, 'lang': None, 'contributors_enabled': False, 'is_translator': False, 'is_translation_enabled': False, 'profile_background_color': 'F5F8FA', 'profile_background_image_url': None, 'profile_background_image_url_https': None, 'profile_background_tile': False, 'profile_image_url': 'http://pbs.twimg.com/profile_images/971179956674973696/5yWpEBj6_normal.jpg', 'profile_image_url_https': 'https://pbs.twimg.com/profile_images/971179956674973696/5yWpEBj6_normal.jpg', 'profile_link_color': '1DA1F2', 'profile_sidebar_border_color': 'C0DEED', 'profile_sidebar_fill_color': 'DDEEF6', 'profile_text_color': '333333', 'profile_use_background_image': True, 'has_extended_profile': True, 'default_profile': True, 'default_profile_image': False, 'following': None, 'follow_request_sent': None, 'notifications': None, 'translator_type': 'none'}, id=966324865929306112, id_str='966324865929306112', name='Lynda Hammond', screen_name='LyndaHammond20', location='', description='', url=None, entities={'description': {'urls': []}}, protected=False, followers_count=67, friends_count=245, listed_count=0, created_at=datetime.datetime(2018, 2, 21, 14, 52, 56), favourites_count=340, utc_offset=None, time_zone=None, geo_enabled=False, verified=False, statuses_count=114, lang=None, contributors_enabled=False, is_translator=False, is_translation_enabled=False, profile_background_color='F5F8FA', profile_background_image_url=None, profile_background_image_url_https=None, profile_background_tile=False, profile_image_url='http://pbs.twimg.com/profile_images/971179956674973696/5yWpEBj6_normal.jpg', profile_image_url_https='https://pbs.twimg.com/profile_images/971179956674973696/5yWpEBj6_normal.jpg', profile_link_color='1DA1F2', profile_sidebar_border_color='C0DEED', profile_sidebar_fill_color='DDEEF6', profile_text_color='333333', profile_use_background_image=True, has_extended_profile=True, default_profile=True, default_profile_image=False, following=False, follow_request_sent=None, notifications=None, translator_type='none'), user=User(_api=<tweepy.api.API object at 0x0000012C148964F0>, _json={'id': 966324865929306112, 'id_str': '966324865929306112', 'name': 'Lynda Hammond', 'screen_name': 'LyndaHammond20', 'location': '', 'description': '', 'url': None, 'entities': {'description': {'urls': []}}, 'protected': False, 'followers_count': 67, 'friends_count': 245, 'listed_count': 0, 'created_at': 'Wed Feb 21 14:52:56 +0000 2018', 'favourites_count': 340, 'utc_offset': None, 'time_zone': None, 'geo_enabled': False, 'verified': False, 'statuses_count': 114, 'lang': None, 'contributors_enabled': False, 'is_translator': False, 'is_translation_enabled': False, 'profile_background_color': 'F5F8FA', 'profile_background_image_url': None, 'profile_background_image_url_https': None, 'profile_background_tile': False, 'profile_image_url': 'http://pbs.twimg.com/profile_images/971179956674973696/5yWpEBj6_normal.jpg', 'profile_image_url_https': 'https://pbs.twimg.com/profile_images/971179956674973696/5yWpEBj6_normal.jpg', 'profile_link_color': '1DA1F2', 'profile_sidebar_border_color': 'C0DEED', 'profile_sidebar_fill_color': 'DDEEF6', 'profile_text_color': '333333', 'profile_use_background_image': True, 'has_extended_profile': True, 'default_profile': True, 'default_profile_image': False, 'following': None, 'follow_request_sent': None, 'notifications': None, 'translator_type': 'none'}, id=966324865929306112, id_str='966324865929306112', name='Lynda Hammond', screen_name='LyndaHammond20', location='', description='', url=None, entities={'description': {'urls': []}}, protected=False, followers_count=67, friends_count=245, listed_count=0, created_at=datetime.datetime(2018, 2, 21, 14, 52, 56), favourites_count=340, utc_offset=None, time_zone=None, geo_enabled=False, verified=False, statuses_count=114, lang=None, contributors_enabled=False, is_translator=False, is_translation_enabled=False, profile_background_color='F5F8FA', profile_background_image_url=None, profile_background_image_url_https=None, profile_background_tile=False, profile_image_url='http://pbs.twimg.com/profile_images/971179956674973696/5yWpEBj6_normal.jpg', profile_image_url_https='https://pbs.twimg.com/profile_images/971179956674973696/5yWpEBj6_normal.jpg', profile_link_color='1DA1F2', profile_sidebar_border_color='C0DEED', profile_sidebar_fill_color='DDEEF6', profile_text_color='333333', profile_use_background_image=True, has_extended_profile=True, default_profile=True, default_profile_image=False, following=False, follow_request_sent=None, notifications=None, translator_type='none'), geo=None, coordinates=None, place=None, contributors=None, is_quote_status=False, retweet_count=0, favorite_count=0, favorited=False, retweeted=False, lang='en')"
      ]
     },
     "execution_count": 14,
     "metadata": {},
     "output_type": "execute_result"
    }
   ],
   "source": [
    "t"
   ]
  },
  {
   "cell_type": "code",
   "execution_count": 9,
   "metadata": {
    "scrolled": true
   },
   "outputs": [
    {
     "name": "stdout",
     "output_type": "stream",
     "text": [
      "Check out my Vanquis Card referral link and we could both earn £25 once you apply and spend on your new card (Terms… https://t.co/Sj5WjLbX5m\n",
      "@itvMLshow   my sister needs money advise about vanquis  they added purchase interest  due to section 75 but it was… https://t.co/gsFhWdEvB3\n",
      "RT @KaiHolloway: anyone got the unfortunate fate of being under Vanquis loans??\n",
      "DM me to get rid of those criminals\n",
      "anyone got the unfortunate fate of being under Vanquis loans??\n",
      "DM me to get rid of those criminals\n",
      "Check out my Vanquis Card referral link and we could both earn £25 once you apply and spend on your new card (Terms… https://t.co/r5e0S02uoc\n",
      "@AskCurve FYI: Vanquis Bank fails when trying to add. I’ve tried a number of times.\n",
      "VANQUIS THE PAAAIINNN\n",
      "DON'T WANT TO SEEK DISPAAAAAIIIRRRR\n"
     ]
    }
   ],
   "source": [
    "for tweet in api.search(q=\"vanquis\", count=20):\n",
    "    print(tweet.text)\n",
    "    "
   ]
  },
  {
   "cell_type": "code",
   "execution_count": null,
   "metadata": {},
   "outputs": [],
   "source": []
  },
  {
   "cell_type": "code",
   "execution_count": null,
   "metadata": {},
   "outputs": [],
   "source": []
  },
  {
   "cell_type": "code",
   "execution_count": null,
   "metadata": {},
   "outputs": [],
   "source": []
  }
 ],
 "metadata": {
  "kernelspec": {
   "display_name": "Python 3",
   "language": "python",
   "name": "python3"
  },
  "language_info": {
   "codemirror_mode": {
    "name": "ipython",
    "version": 3
   },
   "file_extension": ".py",
   "mimetype": "text/x-python",
   "name": "python",
   "nbconvert_exporter": "python",
   "pygments_lexer": "ipython3",
   "version": "3.8.5"
  }
 },
 "nbformat": 4,
 "nbformat_minor": 4
}
